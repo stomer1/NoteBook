{
 "cells": [
  {
   "cell_type": "code",
   "execution_count": 11,
   "id": "b3d07b34",
   "metadata": {},
   "outputs": [],
   "source": [
    "# 네이버 상영작 목록 수집\n",
    "# https://movie.naver.com/movie/running/current.nhn\n",
    "from urllib.request import urlopen\n",
    "from bs4 import BeautifulSoup\n",
    "\n",
    "req = urlopen(\"https://movie.naver.com/movie/running/current.nhn\")\n",
    "html = req.read().decode(\"utf-8\")\n",
    "# Soup 생성\n",
    "soup = BeautifulSoup(html, \"html.parser\")    \n",
    "# 문서 정보\n",
    "print(\"태그명:\", soup.title.name) # 태그 이름"
   ]
  },
  {
   "cell_type": "code",
   "execution_count": 25,
   "id": "6bb43e4e",
   "metadata": {},
   "outputs": [
    {
     "ename": "IndentationError",
     "evalue": "expected an indented block (<ipython-input-25-46e274e246c4>, line 12)",
     "output_type": "error",
     "traceback": [
      "\u001b[1;36m  File \u001b[1;32m\"<ipython-input-25-46e274e246c4>\"\u001b[1;36m, line \u001b[1;32m12\u001b[0m\n\u001b[1;33m    #       print(title.text, title[\"https://movie.naver.com/movie/running/current.nhn\"] + title['href'])\u001b[0m\n\u001b[1;37m                                                                                                         ^\u001b[0m\n\u001b[1;31mIndentationError\u001b[0m\u001b[1;31m:\u001b[0m expected an indented block\n"
     ]
    }
   ],
   "source": [
    "# .lst_detail_t1> li 들\n",
    "current_movies = soup.select(\".lst_detail_t1 > li\")\n",
    "# 클래스 lst_detail_t1 의 자식들 li\n",
    "#print(current_movies[0].prettify())\n",
    "\n",
    "for movie in current_movies:\n",
    "    #하위로 다시 Select\n",
    "    titles = movie.select(\".lst_dsc > .tit > a\")\n",
    "    # 클래스가 lst_dsc의 자식 .tit 의 자식 a\n",
    "#    print(titles)\n",
    "    for title in titles:\n",
    "#       print(title.text, title[\"https://movie.naver.com/movie/running/current.nhn\"] + title['href'])"
   ]
  },
  {
   "cell_type": "code",
   "execution_count": 30,
   "id": "c259b203",
   "metadata": {},
   "outputs": [
    {
     "name": "stdout",
     "output_type": "stream",
     "text": [
      "..............................................................................................................Download Complete\n"
     ]
    }
   ],
   "source": [
    "from urllib.request import urlretrieve\n",
    "\n",
    "# 포스터 저장 디렉터리 생성\n",
    "import os\n",
    "if not os.path.exists(\"./poster\"): # poster 디렉터리가 없으면\n",
    "    os.makedirs(\"./poster\")\n",
    "    \n",
    "import re\n",
    "# 포스터 수집\n",
    "#print(current_movies)\n",
    "for movie in current_movies:\n",
    "    img = movie.select(\"img\")[0] # 이미지명 : alt속성 + \".jpg\"\n",
    "    # 불용문자 제거\n",
    "    title = re.sub(r\"[\\/:*?<>{.]\", \"-\", img['alt'].strip()) + \".jpg\"\n",
    "    \n",
    "#    print(img['alt'])\n",
    "    # 이미지 다운로드\n",
    "    urlretrieve(img['src'], \"./poster/\" + title)\n",
    "    print(\".\", end=\"\")\n",
    "else:\n",
    "     print(\"Download Complete\")"
   ]
  }
 ],
 "metadata": {
  "kernelspec": {
   "display_name": "Python 3",
   "language": "python",
   "name": "python3"
  },
  "language_info": {
   "codemirror_mode": {
    "name": "ipython",
    "version": 3
   },
   "file_extension": ".py",
   "mimetype": "text/x-python",
   "name": "python",
   "nbconvert_exporter": "python",
   "pygments_lexer": "ipython3",
   "version": "3.9.5"
  }
 },
 "nbformat": 4,
 "nbformat_minor": 5
}
